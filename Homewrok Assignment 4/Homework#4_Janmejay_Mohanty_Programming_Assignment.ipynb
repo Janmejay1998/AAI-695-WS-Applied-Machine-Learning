{
  "cells": [
    {
      "cell_type": "code",
      "execution_count": 41,
      "metadata": {
        "colab": {
          "base_uri": "https://localhost:8080/"
        },
        "id": "KxU8wwFQRo58",
        "outputId": "394ce3fc-d2a9-4adb-8d85-6d061b81aa79"
      },
      "outputs": [],
      "source": [
        "import pandas as pd\n",
        "import numpy as np\n",
        "from sklearn.model_selection import train_test_split"
      ]
    },
    {
      "cell_type": "code",
      "execution_count": 42,
      "metadata": {},
      "outputs": [
        {
          "name": "stderr",
          "output_type": "stream",
          "text": [
            "C:\\Users\\Janmejay Mohanty\\AppData\\Local\\Temp\\ipykernel_33040\\2906356265.py:5: FutureWarning: The default value of numeric_only in DataFrame.mean is deprecated. In a future version, it will default to False. In addition, specifying 'numeric_only=None' is deprecated. Select only valid columns or specify the value of numeric_only to silence this warning.\n",
            "  df.fillna(df.mean(), inplace=True)\n"
          ]
        }
      ],
      "source": [
        "# Load data\n",
        "df = pd.read_csv('Titanic.csv')\n",
        "\n",
        "# Fill missing values with mean of column\n",
        "df.fillna(df.mean(), inplace=True)\n",
        "\n",
        "# Define independent and dependent variables\n",
        "X = df[['pclass', 'sex', 'age', 'sibsp']]\n",
        "y = df['survived']\n",
        "\n",
        "# Split into training and testing sets\n",
        "X_train, X_test, y_train, y_test = train_test_split(X, y, test_size=0.2, random_state=42)\n",
        "\n",
        "# Encode categorical variables\n",
        "from sklearn.preprocessing import LabelEncoder\n",
        "\n",
        "# Define a function to apply LabelEncoder to multiple columns\n",
        "def label_encode(df, columns):\n",
        "    le = LabelEncoder()\n",
        "    for col in columns:\n",
        "        df[col] = le.fit_transform(df[col])\n",
        "    return df\n",
        "\n",
        "# Specify the categorical columns to encode\n",
        "cat_columns = ['sex', 'pclass']\n",
        "\n",
        "# Apply label encoding to categorical columns for both training and test data\n",
        "X_train = label_encode(X_train, cat_columns)\n",
        "X_test = label_encode(X_test, cat_columns)\n"
      ]
    },
    {
      "cell_type": "code",
      "execution_count": 43,
      "metadata": {
        "colab": {
          "base_uri": "https://localhost:8080/",
          "height": 92
        },
        "id": "SEMSanbwRykd",
        "outputId": "8253a884-9385-4e2f-8fbe-c77fc2f355ac"
      },
      "outputs": [
        {
          "data": {
            "text/html": [
              "<style>#sk-container-id-9 {color: black;background-color: white;}#sk-container-id-9 pre{padding: 0;}#sk-container-id-9 div.sk-toggleable {background-color: white;}#sk-container-id-9 label.sk-toggleable__label {cursor: pointer;display: block;width: 100%;margin-bottom: 0;padding: 0.3em;box-sizing: border-box;text-align: center;}#sk-container-id-9 label.sk-toggleable__label-arrow:before {content: \"▸\";float: left;margin-right: 0.25em;color: #696969;}#sk-container-id-9 label.sk-toggleable__label-arrow:hover:before {color: black;}#sk-container-id-9 div.sk-estimator:hover label.sk-toggleable__label-arrow:before {color: black;}#sk-container-id-9 div.sk-toggleable__content {max-height: 0;max-width: 0;overflow: hidden;text-align: left;background-color: #f0f8ff;}#sk-container-id-9 div.sk-toggleable__content pre {margin: 0.2em;color: black;border-radius: 0.25em;background-color: #f0f8ff;}#sk-container-id-9 input.sk-toggleable__control:checked~div.sk-toggleable__content {max-height: 200px;max-width: 100%;overflow: auto;}#sk-container-id-9 input.sk-toggleable__control:checked~label.sk-toggleable__label-arrow:before {content: \"▾\";}#sk-container-id-9 div.sk-estimator input.sk-toggleable__control:checked~label.sk-toggleable__label {background-color: #d4ebff;}#sk-container-id-9 div.sk-label input.sk-toggleable__control:checked~label.sk-toggleable__label {background-color: #d4ebff;}#sk-container-id-9 input.sk-hidden--visually {border: 0;clip: rect(1px 1px 1px 1px);clip: rect(1px, 1px, 1px, 1px);height: 1px;margin: -1px;overflow: hidden;padding: 0;position: absolute;width: 1px;}#sk-container-id-9 div.sk-estimator {font-family: monospace;background-color: #f0f8ff;border: 1px dotted black;border-radius: 0.25em;box-sizing: border-box;margin-bottom: 0.5em;}#sk-container-id-9 div.sk-estimator:hover {background-color: #d4ebff;}#sk-container-id-9 div.sk-parallel-item::after {content: \"\";width: 100%;border-bottom: 1px solid gray;flex-grow: 1;}#sk-container-id-9 div.sk-label:hover label.sk-toggleable__label {background-color: #d4ebff;}#sk-container-id-9 div.sk-serial::before {content: \"\";position: absolute;border-left: 1px solid gray;box-sizing: border-box;top: 0;bottom: 0;left: 50%;z-index: 0;}#sk-container-id-9 div.sk-serial {display: flex;flex-direction: column;align-items: center;background-color: white;padding-right: 0.2em;padding-left: 0.2em;position: relative;}#sk-container-id-9 div.sk-item {position: relative;z-index: 1;}#sk-container-id-9 div.sk-parallel {display: flex;align-items: stretch;justify-content: center;background-color: white;position: relative;}#sk-container-id-9 div.sk-item::before, #sk-container-id-9 div.sk-parallel-item::before {content: \"\";position: absolute;border-left: 1px solid gray;box-sizing: border-box;top: 0;bottom: 0;left: 50%;z-index: -1;}#sk-container-id-9 div.sk-parallel-item {display: flex;flex-direction: column;z-index: 1;position: relative;background-color: white;}#sk-container-id-9 div.sk-parallel-item:first-child::after {align-self: flex-end;width: 50%;}#sk-container-id-9 div.sk-parallel-item:last-child::after {align-self: flex-start;width: 50%;}#sk-container-id-9 div.sk-parallel-item:only-child::after {width: 0;}#sk-container-id-9 div.sk-dashed-wrapped {border: 1px dashed gray;margin: 0 0.4em 0.5em 0.4em;box-sizing: border-box;padding-bottom: 0.4em;background-color: white;}#sk-container-id-9 div.sk-label label {font-family: monospace;font-weight: bold;display: inline-block;line-height: 1.2em;}#sk-container-id-9 div.sk-label-container {text-align: center;}#sk-container-id-9 div.sk-container {/* jupyter's `normalize.less` sets `[hidden] { display: none; }` but bootstrap.min.css set `[hidden] { display: none !important; }` so we also need the `!important` here to be able to override the default hidden behavior on the sphinx rendered scikit-learn.org. See: https://github.com/scikit-learn/scikit-learn/issues/21755 */display: inline-block !important;position: relative;}#sk-container-id-9 div.sk-text-repr-fallback {display: none;}</style><div id=\"sk-container-id-9\" class=\"sk-top-container\"><div class=\"sk-text-repr-fallback\"><pre>MLPClassifier(activation=&#x27;logistic&#x27;, hidden_layer_sizes=(10, 5), max_iter=5000,\n",
              "              random_state=42)</pre><b>In a Jupyter environment, please rerun this cell to show the HTML representation or trust the notebook. <br />On GitHub, the HTML representation is unable to render, please try loading this page with nbviewer.org.</b></div><div class=\"sk-container\" hidden><div class=\"sk-item\"><div class=\"sk-estimator sk-toggleable\"><input class=\"sk-toggleable__control sk-hidden--visually\" id=\"sk-estimator-id-9\" type=\"checkbox\" checked><label for=\"sk-estimator-id-9\" class=\"sk-toggleable__label sk-toggleable__label-arrow\">MLPClassifier</label><div class=\"sk-toggleable__content\"><pre>MLPClassifier(activation=&#x27;logistic&#x27;, hidden_layer_sizes=(10, 5), max_iter=5000,\n",
              "              random_state=42)</pre></div></div></div></div></div>"
            ],
            "text/plain": [
              "MLPClassifier(activation='logistic', hidden_layer_sizes=(10, 5), max_iter=5000,\n",
              "              random_state=42)"
            ]
          },
          "execution_count": 43,
          "metadata": {},
          "output_type": "execute_result"
        }
      ],
      "source": [
        "from sklearn.neural_network import MLPClassifier\n",
        "# fit a neural network with 2 hidden layers and sigmoid activation functions\n",
        "nn = MLPClassifier(hidden_layer_sizes=(10, 5), activation='logistic', solver='adam', alpha=0.0001, max_iter=5000, random_state=42)\n",
        "nn.fit(X_train, y_train)"
      ]
    },
    {
      "cell_type": "code",
      "execution_count": 44,
      "metadata": {
        "colab": {
          "base_uri": "https://localhost:8080/"
        },
        "id": "4gBSvhtfSxAf",
        "outputId": "5e5afae6-d477-4f48-a83d-aea1562af9cc"
      },
      "outputs": [
        {
          "name": "stdout",
          "output_type": "stream",
          "text": [
            "Test accuracy: 0.7519083969465649\n",
            "Out-of-sample survived accuracy: 0.5254237288135594\n",
            "Out-of-sample fatalities accuracy: 0.9375\n"
          ]
        }
      ],
      "source": [
        "# Evaluate the model on the test set\n",
        "test_acc = nn.score(X_test, y_test)\n",
        "\n",
        "# Predict the test set\n",
        "y_pred = nn.predict(X_test)\n",
        "\n",
        "# Calculate out-of-sample accuracy for survivors and fatalities\n",
        "survived_acc = sum((y_test == 1) & (y_pred == 1)) / sum(y_test == 1)\n",
        "fatalities_acc = sum((y_test == 0) & (y_pred == 0)) / sum(y_test == 0)\n",
        "\n",
        "# Print the results\n",
        "print('Test accuracy:', test_acc)\n",
        "print('Out-of-sample survived accuracy:', survived_acc)\n",
        "print('Out-of-sample fatalities accuracy:', fatalities_acc)\n"
      ]
    },
    {
      "cell_type": "code",
      "execution_count": 45,
      "metadata": {
        "colab": {
          "base_uri": "https://localhost:8080/",
          "height": 92
        },
        "id": "bmhzcEpnTZ0N",
        "outputId": "c6fbe388-3d5d-44ef-b9cd-7aa6c49f997a"
      },
      "outputs": [
        {
          "data": {
            "text/html": [
              "<style>#sk-container-id-10 {color: black;background-color: white;}#sk-container-id-10 pre{padding: 0;}#sk-container-id-10 div.sk-toggleable {background-color: white;}#sk-container-id-10 label.sk-toggleable__label {cursor: pointer;display: block;width: 100%;margin-bottom: 0;padding: 0.3em;box-sizing: border-box;text-align: center;}#sk-container-id-10 label.sk-toggleable__label-arrow:before {content: \"▸\";float: left;margin-right: 0.25em;color: #696969;}#sk-container-id-10 label.sk-toggleable__label-arrow:hover:before {color: black;}#sk-container-id-10 div.sk-estimator:hover label.sk-toggleable__label-arrow:before {color: black;}#sk-container-id-10 div.sk-toggleable__content {max-height: 0;max-width: 0;overflow: hidden;text-align: left;background-color: #f0f8ff;}#sk-container-id-10 div.sk-toggleable__content pre {margin: 0.2em;color: black;border-radius: 0.25em;background-color: #f0f8ff;}#sk-container-id-10 input.sk-toggleable__control:checked~div.sk-toggleable__content {max-height: 200px;max-width: 100%;overflow: auto;}#sk-container-id-10 input.sk-toggleable__control:checked~label.sk-toggleable__label-arrow:before {content: \"▾\";}#sk-container-id-10 div.sk-estimator input.sk-toggleable__control:checked~label.sk-toggleable__label {background-color: #d4ebff;}#sk-container-id-10 div.sk-label input.sk-toggleable__control:checked~label.sk-toggleable__label {background-color: #d4ebff;}#sk-container-id-10 input.sk-hidden--visually {border: 0;clip: rect(1px 1px 1px 1px);clip: rect(1px, 1px, 1px, 1px);height: 1px;margin: -1px;overflow: hidden;padding: 0;position: absolute;width: 1px;}#sk-container-id-10 div.sk-estimator {font-family: monospace;background-color: #f0f8ff;border: 1px dotted black;border-radius: 0.25em;box-sizing: border-box;margin-bottom: 0.5em;}#sk-container-id-10 div.sk-estimator:hover {background-color: #d4ebff;}#sk-container-id-10 div.sk-parallel-item::after {content: \"\";width: 100%;border-bottom: 1px solid gray;flex-grow: 1;}#sk-container-id-10 div.sk-label:hover label.sk-toggleable__label {background-color: #d4ebff;}#sk-container-id-10 div.sk-serial::before {content: \"\";position: absolute;border-left: 1px solid gray;box-sizing: border-box;top: 0;bottom: 0;left: 50%;z-index: 0;}#sk-container-id-10 div.sk-serial {display: flex;flex-direction: column;align-items: center;background-color: white;padding-right: 0.2em;padding-left: 0.2em;position: relative;}#sk-container-id-10 div.sk-item {position: relative;z-index: 1;}#sk-container-id-10 div.sk-parallel {display: flex;align-items: stretch;justify-content: center;background-color: white;position: relative;}#sk-container-id-10 div.sk-item::before, #sk-container-id-10 div.sk-parallel-item::before {content: \"\";position: absolute;border-left: 1px solid gray;box-sizing: border-box;top: 0;bottom: 0;left: 50%;z-index: -1;}#sk-container-id-10 div.sk-parallel-item {display: flex;flex-direction: column;z-index: 1;position: relative;background-color: white;}#sk-container-id-10 div.sk-parallel-item:first-child::after {align-self: flex-end;width: 50%;}#sk-container-id-10 div.sk-parallel-item:last-child::after {align-self: flex-start;width: 50%;}#sk-container-id-10 div.sk-parallel-item:only-child::after {width: 0;}#sk-container-id-10 div.sk-dashed-wrapped {border: 1px dashed gray;margin: 0 0.4em 0.5em 0.4em;box-sizing: border-box;padding-bottom: 0.4em;background-color: white;}#sk-container-id-10 div.sk-label label {font-family: monospace;font-weight: bold;display: inline-block;line-height: 1.2em;}#sk-container-id-10 div.sk-label-container {text-align: center;}#sk-container-id-10 div.sk-container {/* jupyter's `normalize.less` sets `[hidden] { display: none; }` but bootstrap.min.css set `[hidden] { display: none !important; }` so we also need the `!important` here to be able to override the default hidden behavior on the sphinx rendered scikit-learn.org. See: https://github.com/scikit-learn/scikit-learn/issues/21755 */display: inline-block !important;position: relative;}#sk-container-id-10 div.sk-text-repr-fallback {display: none;}</style><div id=\"sk-container-id-10\" class=\"sk-top-container\"><div class=\"sk-text-repr-fallback\"><pre>MLPClassifier(activation=&#x27;logistic&#x27;, hidden_layer_sizes=(20, 10), max_iter=5000,\n",
              "              random_state=42)</pre><b>In a Jupyter environment, please rerun this cell to show the HTML representation or trust the notebook. <br />On GitHub, the HTML representation is unable to render, please try loading this page with nbviewer.org.</b></div><div class=\"sk-container\" hidden><div class=\"sk-item\"><div class=\"sk-estimator sk-toggleable\"><input class=\"sk-toggleable__control sk-hidden--visually\" id=\"sk-estimator-id-10\" type=\"checkbox\" checked><label for=\"sk-estimator-id-10\" class=\"sk-toggleable__label sk-toggleable__label-arrow\">MLPClassifier</label><div class=\"sk-toggleable__content\"><pre>MLPClassifier(activation=&#x27;logistic&#x27;, hidden_layer_sizes=(20, 10), max_iter=5000,\n",
              "              random_state=42)</pre></div></div></div></div></div>"
            ],
            "text/plain": [
              "MLPClassifier(activation='logistic', hidden_layer_sizes=(20, 10), max_iter=5000,\n",
              "              random_state=42)"
            ]
          },
          "execution_count": 45,
          "metadata": {},
          "output_type": "execute_result"
        }
      ],
      "source": [
        "from sklearn.neural_network import MLPClassifier\n",
        "# fit a neural network with 2 hidden layers and sigmoid activation functions\n",
        "nn2 = MLPClassifier(hidden_layer_sizes=(20, 10), activation='logistic', solver='adam', alpha=0.0001, max_iter=5000, random_state=42)\n",
        "nn2.fit(X_train, y_train)"
      ]
    },
    {
      "cell_type": "code",
      "execution_count": 46,
      "metadata": {
        "colab": {
          "base_uri": "https://localhost:8080/"
        },
        "id": "A0Bq3Dcs1xAr",
        "outputId": "cb839365-96d2-4a2d-f261-4c0849273ef5"
      },
      "outputs": [
        {
          "name": "stdout",
          "output_type": "stream",
          "text": [
            "Test accuracy: 0.7709923664122137\n",
            "Out-of-sample survived accuracy: 0.6016949152542372\n",
            "Out-of-sample fatalities accuracy: 0.9097222222222222\n"
          ]
        }
      ],
      "source": [
        "# Evaluate the model on the test set\n",
        "test_acc2 = nn2.score(X_test, y_test)\n",
        "\n",
        "# Predict the test set\n",
        "y_pred2 = nn2.predict(X_test)\n",
        "\n",
        "# Calculate out-of-sample accuracy for survivors and fatalities\n",
        "survived_acc2 = sum((y_test == 1) & (y_pred2 == 1)) / sum(y_test == 1)\n",
        "fatalities_acc2 = sum((y_test == 0) & (y_pred2 == 0)) / sum(y_test == 0)\n",
        "\n",
        "# Print the results\n",
        "print('Test accuracy:', test_acc2)\n",
        "print('Out-of-sample survived accuracy:', survived_acc2)\n",
        "print('Out-of-sample fatalities accuracy:', fatalities_acc2)\n"
      ]
    },
    {
      "cell_type": "code",
      "execution_count": 47,
      "metadata": {
        "colab": {
          "base_uri": "https://localhost:8080/"
        },
        "id": "83n5qT29S7yt",
        "outputId": "e14a45a8-fb02-4d02-ddd4-c55f971ac945"
      },
      "outputs": [],
      "source": [
        "from sklearn.metrics import accuracy_score\n",
        "from sklearn.ensemble import RandomForestClassifier\n",
        "\n",
        "# Fit a random forest with default hyperparameters\n",
        "rf = RandomForestClassifier(random_state=42)\n",
        "rf.fit(X_train, y_train)\n",
        "\n",
        "# Evaluate the model on the test set\n",
        "y_pred_rf = rf.predict(X_test)\n",
        "\n",
        "# Calculate accuracy for the random forest\n",
        "test_acc_rf = accuracy_score(y_test, y_pred_rf)\n",
        "survived_acc_rf = accuracy_score(y_test[y_test == 1], y_pred_rf[y_test == 1])\n",
        "fatalities_acc_rf = accuracy_score(y_test[y_test == 0], y_pred_rf[y_test == 0])\n"
      ]
    },
    {
      "cell_type": "code",
      "execution_count": 52,
      "metadata": {
        "colab": {
          "base_uri": "https://localhost:8080/"
        },
        "id": "SqrRxfVo4uri",
        "outputId": "75cfe3d6-91d8-4d0e-f5a4-e3dde40e3823"
      },
      "outputs": [
        {
          "name": "stdout",
          "output_type": "stream",
          "text": [
            "Test accuracy (neural network): 0.7519\n",
            "Out-of-sample survived accuracy (neural network): 0.5254\n",
            "Out-of-sample fatalities accuracy (neural network): 0.9375\n",
            "Test accuracy (random forest): 0.7557\n",
            "Out-of-sample survived accuracy (random forest): 0.6102\n",
            "Out-of-sample fatalities accuracy (random forest): 0.8750\n"
          ]
        }
      ],
      "source": [
        "# Print the results for neural network\n",
        "print('Test accuracy (neural network): {:.4f}'.format(test_acc))\n",
        "print('Out-of-sample survived accuracy (neural network): {:.4f}'.format(survived_acc))\n",
        "print('Out-of-sample fatalities accuracy (neural network): {:.4f}'.format(fatalities_acc))\n",
        "\n",
        "# Print the results for random forest\n",
        "print('Test accuracy (random forest): {:.4f}'.format(test_acc_rf))\n",
        "print('Out-of-sample survived accuracy (random forest): {:.4f}'.format(survived_acc_rf))\n",
        "print('Out-of-sample fatalities accuracy (random forest): {:.4f}'.format(fatalities_acc_rf))\n"
      ]
    },
    {
      "cell_type": "code",
      "execution_count": 53,
      "metadata": {
        "colab": {
          "base_uri": "https://localhost:8080/"
        },
        "id": "wc255o4z1sGT",
        "outputId": "56a0bef2-9f04-4b78-b2de-6d18cd095ee9"
      },
      "outputs": [
        {
          "name": "stdout",
          "output_type": "stream",
          "text": [
            "Test accuracy (neural network): 0.7710\n",
            "Out-of-sample survived accuracy (neural network): 0.6017\n",
            "Out-of-sample fatalities accuracy (neural network): 0.9097\n",
            "Test accuracy (random forest): 0.7557\n",
            "Out-of-sample survived accuracy (random forest): 0.6102\n",
            "Out-of-sample fatalities accuracy (random forest): 0.8750\n"
          ]
        }
      ],
      "source": [
        "# Print the results for neural network\n",
        "print(f'Test accuracy (neural network): {test_acc2:.4f}')\n",
        "print(f'Out-of-sample survived accuracy (neural network): {survived_acc2:.4f}')\n",
        "print(f'Out-of-sample fatalities accuracy (neural network): {fatalities_acc2:.4f}')\n",
        "\n",
        "# Print the results for random forest\n",
        "print(f'Test accuracy (random forest): {test_acc_rf:.4f}')\n",
        "print(f'Out-of-sample survived accuracy (random forest): {survived_acc_rf:.4f}')\n",
        "print(f'Out-of-sample fatalities accuracy (random forest): {fatalities_acc_rf:.4f}')"
      ]
    },
    {
      "cell_type": "markdown",
      "metadata": {
        "id": "fEJHdk2y5pQD"
      },
      "source": [
        "#discussion\n",
        " "
      ]
    },
    {
      "cell_type": "code",
      "execution_count": 54,
      "metadata": {},
      "outputs": [
        {
          "data": {
            "image/png": "[encoded data removed]",
            "text/plain": [
              "<Figure size 640x480 with 1 Axes>"
            ]
          },
          "metadata": {},
          "output_type": "display_data"
        }
      ],
      "source": [
        "import matplotlib.pyplot as plt\n",
        "import numpy as np\n",
        "\n",
        "# Define the accuracy values\n",
        "nn_values = [test_acc, survived_acc, fatalities_acc]\n",
        "nn2_values = [test_acc2, survived_acc2, fatalities_acc2]\n",
        "rf_values = [test_acc_rf, survived_acc_rf, fatalities_acc_rf]\n",
        "\n",
        "# Set the labels for the x-axis\n",
        "labels = ['Test Accuracy', 'Survived Accuracy', 'Fatalities Accuracy']\n",
        "\n",
        "# Set the x-axis locations\n",
        "x = np.arange(len(labels))\n",
        "\n",
        "# Create a list of models and their corresponding accuracy values\n",
        "models = ['NN', 'NN2', 'Random Forest']\n",
        "accuracy_values = [nn_values, nn2_values, rf_values]\n",
        "\n",
        "# Loop through the models and their accuracy values\n",
        "for i in range(len(models)):\n",
        "    # Create the bar chart\n",
        "    plt.bar(x - 0.2 + i*0.2, accuracy_values[i], width=0.2, label=models[i])\n",
        "\n",
        "# Set the title and axis labels\n",
        "plt.title('Comparison of Accuracy for Different Models')\n",
        "plt.xlabel('Categories')\n",
        "plt.ylabel('Accuracy')\n",
        "\n",
        "# Set the tick marks and labels for the x-axis\n",
        "plt.xticks(x, labels)\n",
        "\n",
        "# Add a legend\n",
        "plt.legend()\n",
        "\n",
        "# Display the chart\n",
        "plt.show()"
      ]
    },
    {
      "attachments": {},
      "cell_type": "markdown",
      "metadata": {
        "id": "d9kfSq1w8851"
      },
      "source": [
        "The accuracy ratings of two neural networks and a random forest classifier for predicting survival and mortality on the Titanic dataset are contrasted in the bar graph. The test accuracy, out-of-sample survived accuracy, and out-of-sample fatalities accuracy are the three accuracy values for each model that are represented on the x-axis. The accuracy score percentage is displayed on the y-axis.\n",
        "\n",
        "The first set of blue bars shows the first neural network's (NN) accuracy scores. The accuracy scores of the second neural network (NN2) are shown by the second pair of orange bars. The random forest (RF) classifier's accuracy scores are shown by the third set of green bars.\n",
        "\n",
        "Overall, it can be shown that in all three accuracy categories, both neural networks performed better than the random forest classifier. In terms of test accuracy and out-of-sample survival accuracy, the second neural network (NN2) fared marginally better than the first neural network (NN), however the first neural network (NN) performed marginally better in terms of out-of-sample fatalities accuracy."
      ]
    }
  ],
  "metadata": {
    "colab": {
      "provenance": []
    },
    "kernelspec": {
      "display_name": "Python 3",
      "name": "python3"
    },
    "language_info": {
      "codemirror_mode": {
        "name": "ipython",
        "version": 3
      },
      "file_extension": ".py",
      "mimetype": "text/x-python",
      "name": "python",
      "nbconvert_exporter": "python",
      "pygments_lexer": "ipython3",
      "version": "3.10.5"
    }
  },
  "nbformat": 4,
  "nbformat_minor": 0
}
