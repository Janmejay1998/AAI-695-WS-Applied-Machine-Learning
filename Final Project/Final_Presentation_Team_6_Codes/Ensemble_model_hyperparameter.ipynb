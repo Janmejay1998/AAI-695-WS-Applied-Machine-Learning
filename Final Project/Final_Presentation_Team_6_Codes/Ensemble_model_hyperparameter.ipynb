{
 "cells": [
  {
   "cell_type": "code",
   "execution_count": 6,
   "metadata": {},
   "outputs": [],
   "source": [
    "import pandas as pd\n",
    "from sklearn.ensemble import VotingClassifier\n",
    "from sklearn.model_selection import train_test_split, GridSearchCV\n",
    "from sklearn.preprocessing import LabelEncoder\n",
    "from sklearn.tree import DecisionTreeClassifier\n",
    "from sklearn.ensemble import RandomForestClassifier\n",
    "from sklearn.linear_model import LogisticRegression\n",
    "from sklearn.metrics import accuracy_score, classification_report, confusion_matrix, f1_score\n",
    "import warnings\n",
    "warnings.filterwarnings(\"ignore\")\n"
   ]
  },
  {
   "cell_type": "code",
   "execution_count": 4,
   "metadata": {},
   "outputs": [
    {
     "name": "stdout",
     "output_type": "stream",
     "text": [
      "Best Hyperparameters: VotingClassifier(estimators=[('tree',\n",
      "                              DecisionTreeClassifier(max_depth=10,\n",
      "                                                     random_state=42)),\n",
      "                             ('forest',\n",
      "                              RandomForestClassifier(n_estimators=200,\n",
      "                                                     random_state=42)),\n",
      "                             ('logreg', LogisticRegression(random_state=42))])\n",
      "Accuracy: 0.8598188238906802\n",
      "Confusion Matrix:\n",
      " [[4716  226]\n",
      " [ 687  884]]\n",
      "Classification Report:\n",
      "               precision    recall  f1-score   support\n",
      "\n",
      "           0       0.87      0.95      0.91      4942\n",
      "           1       0.80      0.56      0.66      1571\n",
      "\n",
      "    accuracy                           0.86      6513\n",
      "   macro avg       0.83      0.76      0.79      6513\n",
      "weighted avg       0.85      0.86      0.85      6513\n",
      "\n"
     ]
    }
   ],
   "source": [
    "\n",
    "# Download the dataset\n",
    "url = \"https://archive.ics.uci.edu/ml/machine-learning-databases/adult/adult.data\"\n",
    "data = pd.read_csv(url, header=None)\n",
    "\n",
    "# Assign column names to the dataset\n",
    "data.columns = [\n",
    "    \"age\", \"workclass\", \"fnlwgt\", \"education\", \"education-num\", \"marital-status\",\n",
    "    \"occupation\", \"relationship\", \"race\", \"sex\", \"capital-gain\", \"capital-loss\",\n",
    "    \"hours-per-week\", \"native-country\", \"income\"\n",
    "]\n",
    "\n",
    "# Preprocess the dataset\n",
    "le = LabelEncoder()\n",
    "data_encoded = data.apply(le.fit_transform)\n",
    "\n",
    "# Split the dataset into features and target\n",
    "X = data_encoded.drop(\"income\", axis=1)\n",
    "y = data_encoded[\"income\"]\n",
    "\n",
    "# Split the data into training and testing sets\n",
    "X_train, X_test, y_train, y_test = train_test_split(X, y, test_size=0.2, random_state=42)\n",
    "\n",
    "# Create the individual models\n",
    "tree_model = DecisionTreeClassifier(random_state=42)\n",
    "forest_model = RandomForestClassifier(random_state=42)\n",
    "logreg_model = LogisticRegression(random_state=42)\n",
    "\n",
    "# Create the ensemble model\n",
    "ensemble_model = VotingClassifier(\n",
    "    estimators=[(\"tree\", tree_model), (\"forest\", forest_model), (\"logreg\", logreg_model)],\n",
    "    voting=\"hard\"\n",
    ")\n",
    "\n",
    "# Define the parameter grid for hyperparameter tuning\n",
    "param_grid = {\n",
    "    \"tree__max_depth\": [None, 10, 20],\n",
    "    \"forest__n_estimators\": [50, 100, 200],\n",
    "    \"logreg__C\": [1.0, 10.0, 100.0]\n",
    "}\n",
    "\n",
    "# Perform grid search for hyperparameter tuning\n",
    "grid_search = GridSearchCV(ensemble_model, param_grid, cv=5)\n",
    "grid_search.fit(X_train, y_train)\n",
    "\n",
    "# Get the best ensemble model\n",
    "best_ensemble_model = grid_search.best_estimator_\n",
    "print(\"Best Hyperparameters:\", grid_search.best_params_)\n",
    "\n",
    "# Make predictions\n",
    "y_pred = best_ensemble_model.predict(X_test)\n",
    "\n",
    "# Evaluate the ensemble model\n",
    "accuracy = accuracy_score(y_test, y_pred)\n",
    "confusion_mat = confusion_matrix(y_test, y_pred)\n",
    "classification_rep = classification_report(y_test, y_pred)\n",
    "print(\"Accuracy:\", accuracy)\n",
    "print(\"Confusion Matrix:\\n\", confusion_mat)\n",
    "print(\"Classification Report:\\n\", classification_rep)\n"
   ]
  },
  {
   "cell_type": "code",
   "execution_count": 5,
   "metadata": {},
   "outputs": [
    {
     "name": "stdout",
     "output_type": "stream",
     "text": [
      "Best Hyperparameters: {'forest__n_estimators': 200, 'logreg__C': 1.0, 'tree__max_depth': 10}\n"
     ]
    }
   ],
   "source": [
    "print(\"Best Hyperparameters:\", grid_search.best_params_)"
   ]
  },
  {
   "cell_type": "code",
   "execution_count": 7,
   "metadata": {},
   "outputs": [
    {
     "name": "stdout",
     "output_type": "stream",
     "text": [
      "0.6594554270794479\n"
     ]
    }
   ],
   "source": [
    "print(f1_score(y_test, y_pred))"
   ]
  }
 ],
 "metadata": {
  "kernelspec": {
   "display_name": "Python 3",
   "language": "python",
   "name": "python3"
  },
  "language_info": {
   "codemirror_mode": {
    "name": "ipython",
    "version": 3
   },
   "file_extension": ".py",
   "mimetype": "text/x-python",
   "name": "python",
   "nbconvert_exporter": "python",
   "pygments_lexer": "ipython3",
   "version": "3.10.5"
  },
  "orig_nbformat": 4
 },
 "nbformat": 4,
 "nbformat_minor": 2
}
